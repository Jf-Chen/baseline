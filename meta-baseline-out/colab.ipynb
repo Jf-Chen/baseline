# 需要装载drive
pathName="baseline/meta-baseline-out"
#---------下载代码-----------#
%cd /content
!echo "下载代码"
!git clone https://github.com/Jf-Chen/baseline.git
%cd /content/$pathName
#------------从云盘装载数据集------------#
data_path="/content/%s/materials"%pathName
!echo "从google drive装载"
%cd $data_path
!cp /content/drive/MyDrive/few_shot_meta_baseline/materials/miniImageNet.zip $data_path
!unzip miniImageNet.zip -d ./mini-imagenet
!echo "data_path/mini-ImageNet 装载、解压完成"
#---------------end------------------------
!echo "准备环境"
!pip3 install tensorboardX
!pip3 install -U PyYAML
!echo "已安装"

pathName="baseline/meta-baseline"
%cd /content/$pathName
!python train_classifier.py --gpu 0 --config ./configs/train_classifier_mini.yaml
