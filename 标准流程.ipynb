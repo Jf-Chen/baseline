# 需要装载drive

#------------------------------命名---------------------------------#
baseline_floader="baseline"
method_floader="meta-baseline-fcanet"
drive_baseline_floader="Meta-baseline"
drive_method_floader="meta-baseline-fcanet"


#----------------------------下载代码----------------------------------#
%cd /content
!echo "下载代码"
!git clone https://github.com/Jf-Chen/baseline.git
%cd /content/$baseline_floader
#----------------------------从云盘装载数据集----------------------------#
data_path="/content/%s/%s/materials"%(baseline_floader,method_floader)
!echo "从google drive装载"
%cd $data_path
!cp /content/drive/MyDrive/few_shot_meta_baseline/materials/miniImageNet.zip $data_path
!unzip miniImageNet.zip -d ./mini-imagenet
!echo "data_path/mini-ImageNet 装载、解压完成"
#---------------end------------------------
!echo "准备环境"
!pip3 install tensorboardX
!pip3 install -U PyYAML
!echo "已安装"

#############  train classifer  ############# 
baseline_floader="baseline"
method_floader="meta-baseline-fcanet"
drive_root_floader=""
drive_method_floader=""

from datetime import datetime
now = datetime.now() # current date and time
current_time= now.strftime("%YY-%mM-%dD-%HH-%MMinu")
print("current_time==",current_time)

%cd /content/$baseline_floader/$method_floader
!chmod +x /content/$baseline_floader/$method_floader/train_classifier.py
!python train_classifier.py --gpu 0 --config ./configs/train_classifier_mini.yaml

%cd /content/$baseline_floader/$method_floader
#---------相对路径写法-------#
stage="train-classifer"
!tar -czf save.tar.gz ./save
drive_save_path= "/content/drive/MyDrive/%s/%s/%s/%s" %(drive_baseline_floader,drive_method_floader,stage,current_time)
!mkdir -p drive_save_path
!cp save.tar.gz $drive_save_path

#############   meta train  ############# 

